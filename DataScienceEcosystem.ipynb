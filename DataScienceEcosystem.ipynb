{
 "cells": [
  {
   "cell_type": "markdown",
   "id": "37e034ed-6a4f-406b-9b07-1966188a299d",
   "metadata": {
    "tags": []
   },
   "source": [
    "<h1> Data Science Tools and Ecosystem </h1>"
   ]
  },
  {
   "cell_type": "markdown",
   "id": "d33b0929-4631-4663-9372-266d27dbfc82",
   "metadata": {},
   "source": [
    "<h2>Author</h2>\n",
    "<p>Richard Meyer</p>"
   ]
  },
  {
   "cell_type": "markdown",
   "id": "2d1106f5-8039-4d87-b06f-ff45bfc3269c",
   "metadata": {},
   "source": [
    "In this notebook, Data Science Tools and Ecosystem are summarized."
   ]
  },
  {
   "cell_type": "markdown",
   "id": "92a2308d-2498-49a6-bd43-b9516405cff3",
   "metadata": {},
   "source": [
    "<strong>Objectives:</strong>\n",
    "<ul>\n",
    "    <li>List popular languages for Data Science</li>\n",
    "    <li>Discuss key libraries used in data analysis</li>\n",
    "    <li>Explore data visualization techniques</li>\n",
    "    <li>Understand machine learning basics</li>\n",
    "    <li>Evaluate data manipulation methods</li>\n",
    "</ul>"
   ]
  },
  {
   "cell_type": "markdown",
   "id": "361a613e-ac7e-4877-86e2-072b93e68677",
   "metadata": {},
   "source": [
    "Some of the popular languages that Data Scientists use are"
   ]
  },
  {
   "cell_type": "markdown",
   "id": "e40bf2bc-6123-431b-93d8-fceb4ee95cf8",
   "metadata": {},
   "source": [
    "<ol type=\"1\">\n",
    "  <li>Python</li>\n",
    "  <li>SQL</li>\n",
    "  <li>R</li>\n",
    "</ol>"
   ]
  },
  {
   "cell_type": "markdown",
   "id": "9e760403-4d1f-4123-b678-7525f6d0165e",
   "metadata": {},
   "source": [
    "Some of the commonly used libraries used by Data Scientists include:"
   ]
  },
  {
   "cell_type": "markdown",
   "id": "06ba36fd-5401-4d3f-a23f-703f0ddc0198",
   "metadata": {},
   "source": [
    "<ol type=\"1\">\n",
    "  <li>TensorFlow</li>\n",
    "  <li>Panadas</li>\n",
    "  <li>PyTorch</li>\n",
    "</ol>"
   ]
  },
  {
   "cell_type": "markdown",
   "id": "000edb43-e831-49c1-9f4c-4fecf65ba5e5",
   "metadata": {},
   "source": [
    "<table>\n",
    "    <tr>\n",
    "        <th>Data Science Tools</th>\n",
    "    </tr>\n",
    "    <tr>\n",
    "        <td>Jupyter Notebook</td>\n",
    "    </tr>\n",
    "    <tr>\n",
    "        <td>RStudio</td>\n",
    "    </tr>\n",
    "    <tr>\n",
    "        <td>Apache Zeppelin</td>\n",
    "    </tr>\n",
    "</table>"
   ]
  },
  {
   "cell_type": "markdown",
   "id": "2df72af9-4cdc-4828-a761-4c05bf3a75f4",
   "metadata": {
    "tags": []
   },
   "source": [
    "<h3>Below are a few examples of evaluating arithmetic expressions in Python.</h3>\n",
    "\n"
   ]
  },
  {
   "cell_type": "code",
   "execution_count": 7,
   "id": "7bda0caf-b1cf-4f84-ac55-474fa595c8b9",
   "metadata": {
    "tags": []
   },
   "outputs": [
    {
     "name": "stdout",
     "output_type": "stream",
     "text": [
      "17\n"
     ]
    }
   ],
   "source": [
    "# This is a simple arithmetic expression to multiply then add integers.\n",
    "result = (3 * 4) + 5\n",
    "print(result)  # This should output 17"
   ]
  },
  {
   "cell_type": "code",
   "execution_count": 8,
   "id": "151a8734-725f-4077-9952-a1213bad8186",
   "metadata": {
    "tags": []
   },
   "outputs": [
    {
     "name": "stdout",
     "output_type": "stream",
     "text": [
      "3.3333333333333335\n"
     ]
    }
   ],
   "source": [
    "# This will convert 200 minutes to hours by dividing by 60.\n",
    "hours = 200 / 60\n",
    "print(hours)  # This will output the equivalent hours"
   ]
  },
  {
   "cell_type": "code",
   "execution_count": null,
   "id": "d07a9798-88de-47fc-a1f5-c11d5fcdf422",
   "metadata": {},
   "outputs": [],
   "source": []
  }
 ],
 "metadata": {
  "kernelspec": {
   "display_name": "Python",
   "language": "python",
   "name": "conda-env-python-py"
  },
  "language_info": {
   "codemirror_mode": {
    "name": "ipython",
    "version": 3
   },
   "file_extension": ".py",
   "mimetype": "text/x-python",
   "name": "python",
   "nbconvert_exporter": "python",
   "pygments_lexer": "ipython3",
   "version": "3.7.12"
  }
 },
 "nbformat": 4,
 "nbformat_minor": 5
}
